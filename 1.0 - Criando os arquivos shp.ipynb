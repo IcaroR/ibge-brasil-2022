{
 "cells": [
  {
   "cell_type": "markdown",
   "metadata": {},
   "source": [
    "### Preparando o ambiente"
   ]
  },
  {
   "cell_type": "code",
   "execution_count": 29,
   "metadata": {},
   "outputs": [],
   "source": [
    "import pandas as pd\n",
    "import geopandas as gpd\n",
    "import os\n",
    "import zipfile\n",
    "\n",
    "MALHA_PATH = \"data/malhas/\""
   ]
  },
  {
   "cell_type": "markdown",
   "metadata": {},
   "source": [
    "# Criando os arquivos shp\n",
    "\n",
    "Os dados das malhas territoriais foram extraídos do [IBGE](https://www.ibge.gov.br/geociencias/downloads-geociencias.html?caminho=organizacao_do_territorio/malhas_territoriais/malhas_de_setores_censitarios__divisoes_intramunicipais/censo_2022/setores/shp/UF) e são do censo 2022."
   ]
  },
  {
   "cell_type": "code",
   "execution_count": null,
   "metadata": {},
   "outputs": [],
   "source": [
    "# Extraindo todos os arquivos de malhas\n",
    "def extract_shp():   \n",
    "    files = os.listdir(MALHA_PATH)\n",
    "\n",
    "    for file in files:\n",
    "        if file.endswith(\".zip\"):\n",
    "            zip_ref = zipfile.ZipFile(MALHA_PATH + file)\n",
    "            zip_ref.extractall(MALHA_PATH)\n",
    "            zip_ref.close()\n",
    "    \n",
    "extract_shp()"
   ]
  },
  {
   "cell_type": "code",
   "execution_count": 31,
   "metadata": {},
   "outputs": [],
   "source": [
    "gdf_list = []\n",
    "\n",
    "files = os.listdir(MALHA_PATH)\n",
    "\n",
    "for file in files:\n",
    "    if file.endswith(\".shp\"):\n",
    "        gdf = gpd.read_file(MALHA_PATH + file)\n",
    "        gdf_list.append(gdf)\n",
    "\n",
    "# Concatenando todos os arquivos\n",
    "gdf = gpd.GeoDataFrame(pd.concat(gdf_list, ignore_index=True))\n",
    "\n",
    "# Salvando o arquivo\n",
    "gdf.to_file(\"data/brasil.shp\")"
   ]
  }
 ],
 "metadata": {
  "kernelspec": {
   "display_name": ".venv",
   "language": "python",
   "name": "python3"
  },
  "language_info": {
   "codemirror_mode": {
    "name": "ipython",
    "version": 3
   },
   "file_extension": ".py",
   "mimetype": "text/x-python",
   "name": "python",
   "nbconvert_exporter": "python",
   "pygments_lexer": "ipython3",
   "version": "3.12.2"
  }
 },
 "nbformat": 4,
 "nbformat_minor": 2
}
