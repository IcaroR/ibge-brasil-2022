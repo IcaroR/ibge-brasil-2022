{
 "cells": [
  {
   "cell_type": "markdown",
   "metadata": {},
   "source": [
    "### Preparando o ambiente"
   ]
  },
  {
   "cell_type": "code",
   "execution_count": 31,
   "metadata": {},
   "outputs": [],
   "source": [
    "import pandas as pd\n",
    "import geopandas as gpd"
   ]
  },
  {
   "cell_type": "markdown",
   "metadata": {},
   "source": [
    "### Os dados da RAIS podem ser encontrados no arquivo público via [FTP](ftp://ftp.mtps.gov.br/pdet/microdados/RAIS/2022/)\n",
    "Para esta análise foram somente considerados os arquivos de 2022"
   ]
  },
  {
   "cell_type": "code",
   "execution_count": 32,
   "metadata": {},
   "outputs": [],
   "source": [
    "df_rais = pd.read_csv(\"data/RAIS_ESTAB_PUB.txt\", sep=\";\", encoding=\"latin1\", low_memory=False)\n",
    "df_rais.to_csv(\"data/RAIS_ESTAB_PUB.csv\", index=False)"
   ]
  },
  {
   "cell_type": "markdown",
   "metadata": {},
   "source": [
    "### Os dados do IBGE podem ser encontrados clicando em [\"População residente, por sexo e idade, segundo os Bairros - 2022 (xlsx)\"](https://www.ibge.gov.br/estatisticas/sociais/populacao/22827-censo-demografico-2022.html?edicao=41851&t=resultados)"
   ]
  },
  {
   "cell_type": "code",
   "execution_count": 33,
   "metadata": {},
   "outputs": [],
   "source": [
    "df_ibge = pd.read_excel(\"data/Populacao_residente_por_bairros_sexo_idade.xlsx\", sheet_name=\"pop_por_bairro3\", skiprows=12)"
   ]
  },
  {
   "cell_type": "code",
   "execution_count": 35,
   "metadata": {},
   "outputs": [],
   "source": [
    "numeric_cols = [\n",
    "    \"Código da UF\", \"Código do Município\", \"População Total\", \"População 0 a 4 anos\", \n",
    "    \"População Menos de 1 ano\", \"População 1 a 4 anos\", \"População 0 a 5 anos\", \n",
    "    \"População 10 a 14 anos\", \"População 15 a 19 anos\", \"População 15 a 17 anos\", \n",
    "    \"População 18 a 19 anos\", \"População 20 a 24 anos\", \"População 25 a 29 anos\", \n",
    "    \"População 30 a 39 anos\", \"População 40 a 49 anos\", \"População 50 a 59 anos\", \n",
    "    \"População 60 a 69 anos\", \"População 70 anos ou mais\", \"População Masculina Total\", \n",
    "    \"População Masculina 0 a 4 anos\", \"População Masculina Menos de 1 ano\", \n",
    "    \"População Masculina 1 a 4 anos\", \"População Masculina 0 a 5 anos\", \n",
    "    \"População Masculina 10 a 14 anos\", \"População Masculina 15 a 19 anos\", \n",
    "    \"População Masculina 15 a 17 anos\", \"População Masculina 18 a 19 anos\", \n",
    "    \"População Masculina 20 a 24 anos\", \"População Masculina 25 a 29 anos\", \n",
    "    \"População Masculina 30 a 39 anos\", \"População Masculina 40 a 49 anos\", \n",
    "    \"População Masculina 50 a 59 anos\", \"População Masculina 60 a 69 anos\", \n",
    "    \"População Masculina 70 anos ou mais\", \"População Feminina Total\", \n",
    "    \"População Feminina 0 a 4 anos\", \"População Feminina Menos de 1 ano\", \n",
    "    \"População Feminina 1 a 4 anos\", \"População Feminina 0 a 5 anos\", \n",
    "    \"População Feminina 10 a 14 anos\", \"População Feminina 15 a 19 anos\", \n",
    "    \"População Feminina 15 a 17 anos\", \"População Feminina 18 a 19 anos\", \n",
    "    \"População Feminina 20 a 24 anos\", \"População Feminina 25 a 29 anos\", \n",
    "    \"População Feminina 30 a 39 anos\", \"População Feminina 40 a 49 anos\", \n",
    "    \"População Feminina 50 a 59 anos\", \"População Feminina 60 a 69 anos\", \n",
    "    \"População Feminina 70 anos ou mais\", \"População Urbana Total\", \n",
    "    \"População Urbana 0 a 4 anos\", \"População Urbana Menos de 1 ano\", \n",
    "    \"População Urbana 1 a 4 anos\", \"População Urbana 0 a 5 anos\", \n",
    "    \"População Urbana 10 a 14 anos\", \"População Urbana 15 a 19 anos\", \n",
    "    \"População Urbana 15 a 17 anos\", \"População Urbana 18 a 19 anos\", \n",
    "    \"População Urbana 20 a 24 anos\", \"População Urbana 25 a 29 anos\", \n",
    "    \"População Urbana 30 a 39 anos\", \"População Urbana 40 a 49 anos\", \n",
    "    \"População Urbana 50 a 59 anos\", \"População Urbana 60 a 69 anos\", \n",
    "    \"População Urbana 70 anos ou mais\", \"População Urbana Masculina Total\", \n",
    "    \"População Urbana Masculina 0 a 4 anos\", \"População Urbana Masculina Menos de 1 ano\", \n",
    "    \"População Urbana Masculina 1 a 4 anos\", \"População Urbana Masculina 0 a 5 anos\", \n",
    "    \"População Urbana Masculina 10 a 14 anos\", \"População Urbana Masculina 15 a 19 anos\", \n",
    "    \"População Urbana Masculina 15 a 17 anos\", \"População Urbana Masculina 18 a 19 anos\", \n",
    "    \"População Urbana Masculina 20 a 24 anos\", \"População Urbana Masculina 25 a 29 anos\", \n",
    "    \"População Urbana Masculina 30 a 39 anos\", \"População Urbana Masculina 40 a 49 anos\", \n",
    "    \"População Urbana Masculina 50 a 59 anos\", \"População Urbana Masculina 60 a 69 anos\", \n",
    "    \"População Urbana Masculina 70 anos ou mais\", \"População Urbana Feminina Total\", \n",
    "    \"População Urbana Feminina 0 a 4 anos\", \"População Urbana Feminina Menos de 1 ano\", \n",
    "    \"População Urbana Feminina 1 a 4 anos\", \"População Urbana Feminina 0 a 5 anos\", \n",
    "    \"População Urbana Feminina 10 a 14 anos\", \"População Urbana Feminina 15 a 19 anos\", \n",
    "    \"População Urbana Feminina 15 a 17 anos\", \"População Urbana Feminina 18 a 19 anos\", \n",
    "    \"População Urbana Feminina 20 a 24 anos\", \"População Urbana Feminina 25 a 29 anos\", \n",
    "    \"População Urbana Feminina 30 a 39 anos\", \"População Urbana Feminina 40 a 49 anos\", \n",
    "    \"População Urbana Feminina 50 a 59 anos\", \"População Urbana Feminina 60 a 69 anos\", \n",
    "    \"População Urbana Feminina 70 anos ou mais\", \"População Rural Total\", \n",
    "    \"População Rural 0 a 4 anos\", \"População Rural Menos de 1 ano\", \n",
    "    \"População Rural 1 a 4 anos\", \"População Rural 0 a 5 anos\", \n",
    "    \"População Rural 10 a 14 anos\", \"População Rural 15 a 19 anos\", \n",
    "    \"População Rural 15 a 17 anos\", \"População Rural 18 a 19 anos\", \n",
    "    \"População Rural 20 a 24 anos\", \"População Rural 25 a 29 anos\", \n",
    "    \"População Rural 30 a 39 anos\", \"População Rural 40 a 49 anos\", \n",
    "    \"População Rural 50 a 59 anos\", \"População Rural 60 a 69 anos\", \n",
    "    \"População Rural 70 anos ou mais\", \"População Rural Masculina Total\", \n",
    "    \"População Rural Masculina 0 a 4 anos\", \"População Rural Masculina Menos de 1 ano\", \n",
    "    \"População Rural Masculina 1 a 4 anos\", \"População Rural Masculina 0 a 5 anos\", \n",
    "    \"População Rural Masculina 10 a 14 anos\", \"População Rural Masculina 15 a 19 anos\", \n",
    "    \"População Rural Masculina 15 a 17 anos\", \"População Rural Masculina 18 a 19 anos\", \n",
    "    \"População Rural Masculina 20 a 24 anos\", \"População Rural Masculina 25 a 29 anos\", \n",
    "    \"População Rural Masculina 30 a 39 anos\", \"População Rural Masculina 40 a 49 anos\", \n",
    "    \"População Rural Masculina 50 a 59 anos\", \"População Rural Masculina 60 a 69 anos\", \n",
    "    \"População Rural Masculina 70 anos ou mais\", \"População Rural Feminina Total\", \n",
    "    \"População Rural Feminina 0 a 4 anos\", \"População Rural Feminina Menos de 1 ano\", \n",
    "    \"População Rural Feminina 1 a 4 anos\", \"População Rural Feminina 0 a 5 anos\", \n",
    "    \"População Rural Feminina 10 a 14 anos\", \"População Rural Feminina 15 a 19 anos\", \n",
    "    \"População Rural Feminina 15 a 17 anos\", \"População Rural Feminina 18 a 19 anos\", \n",
    "    \"População Rural Feminina 20 a 24 anos\", \"População Rural Feminina 25 a 29 anos\", \n",
    "    \"População Rural Feminina 30 a 39 anos\", \"População Rural Feminina 40 a 49 anos\", \n",
    "    \"População Rural Feminina 50 a 59 anos\", \"População Rural Feminina 60 a 69 anos\", \n",
    "    \"População Rural Feminina 70 anos ou mais\"\n",
    "]\n",
    "\n",
    "\n",
    "df_ibge[numeric_cols] = df_ibge[numeric_cols].apply(pd.to_numeric, errors='coerce')\n",
    "\n",
    "df_ibge.to_csv(\"data/Populacao_residente_por_bairro3.csv\", index=False)"
   ]
  }
 ],
 "metadata": {
  "kernelspec": {
   "display_name": ".venv",
   "language": "python",
   "name": "python3"
  },
  "language_info": {
   "codemirror_mode": {
    "name": "ipython",
    "version": 3
   },
   "file_extension": ".py",
   "mimetype": "text/x-python",
   "name": "python",
   "nbconvert_exporter": "python",
   "pygments_lexer": "ipython3",
   "version": "3.12.2"
  }
 },
 "nbformat": 4,
 "nbformat_minor": 2
}
